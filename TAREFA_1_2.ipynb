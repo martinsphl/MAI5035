{
  "nbformat": 4,
  "nbformat_minor": 0,
  "metadata": {
    "colab": {
      "provenance": [],
      "authorship_tag": "ABX9TyNYQeNddr3tAJe+yMwjTaKt",
      "include_colab_link": true
    },
    "kernelspec": {
      "name": "python3",
      "display_name": "Python 3"
    },
    "language_info": {
      "name": "python"
    }
  },
  "cells": [
    {
      "cell_type": "markdown",
      "metadata": {
        "id": "view-in-github",
        "colab_type": "text"
      },
      "source": [
        "<a href=\"https://colab.research.google.com/github/martinsphl/MAI5035/blob/main/TAREFA_1_2.ipynb\" target=\"_parent\"><img src=\"https://colab.research.google.com/assets/colab-badge.svg\" alt=\"Open In Colab\"/></a>"
      ]
    },
    {
      "cell_type": "markdown",
      "source": [
        "# MAI5035: Task 1.2 by Paulo Martins, Vitória Barbosa and Isaac Saito"
      ],
      "metadata": {
        "id": "clpQfCEuWLuJ"
      }
    },
    {
      "cell_type": "markdown",
      "source": [
        "## Importing Main Libraries"
      ],
      "metadata": {
        "id": "d2ZqzidTWOZB"
      }
    },
    {
      "cell_type": "code",
      "source": [
        "# Main libraries\n",
        "import pandas as pd\n",
        "import numpy as np\n",
        "import matplotlib\n",
        "import matplotlib.pyplot as plt\n",
        "import seaborn as sns\n",
        "import missingno as ms\n",
        "\n",
        "# Preprocess data: normalization and ordinal enconder\n",
        "from sklearn.preprocessing import MinMaxScaler\n",
        "from sklearn.preprocessing import OrdinalEncoder\n",
        "\n",
        "# For Classification Task\n",
        "from sklearn.model_selection import train_test_split\n",
        "from sklearn.neighbors import KNeighborsClassifier\n",
        "from sklearn.metrics import accuracy_score, confusion_matrix, ConfusionMatrixDisplay\n",
        "\n",
        "# Avoiding warning messages\n",
        "import warnings\n",
        "warnings.filterwarnings('ignore')\n",
        "\n",
        "# Setting a global seed\n",
        "np.random.seed(7)"
      ],
      "metadata": {
        "id": "R8Ya2R7ZWz40"
      },
      "execution_count": 2,
      "outputs": []
    },
    {
      "cell_type": "markdown",
      "source": [
        "## Data Gathering\n",
        "\n",
        "We created a github public repository to upload the csv dataset and do software versioning. From github public url, we load the data into a pandas dataframe."
      ],
      "metadata": {
        "id": "sPuyi-53WQRj"
      }
    },
    {
      "cell_type": "code",
      "source": [
        "# Defining the url of each dataset\n",
        "dataset_url = 'https://raw.githubusercontent.com/martinsphl/MAI5035/refs/heads/main/US%20Dollar%20Index%20Historical%20Data.csv'\n",
        "\n",
        "# Creating pandas dataframe from each dataset\n",
        "df = pd.read_csv(dataset_url, names=['date', 'last_price', 'first_price', 'biggest_price', 'lowest_price', 'perc_variation'], skiprows=1, delimiter=',')"
      ],
      "metadata": {
        "id": "uFHBKfw3W4he"
      },
      "execution_count": 4,
      "outputs": []
    },
    {
      "cell_type": "code",
      "source": [
        "# Just checking that the dataframe was loaded correctly from the Github URL\n",
        "print(df.head(5).to_markdown())"
      ],
      "metadata": {
        "id": "SbDb4KfYYNuq",
        "outputId": "5db3afb0-81d1-4f24-c677-6e6f0d3431f4",
        "colab": {
          "base_uri": "https://localhost:8080/"
        }
      },
      "execution_count": 5,
      "outputs": [
        {
          "output_type": "stream",
          "name": "stdout",
          "text": [
            "|    | date         |   last_price |   first_price |   biggest_price |   lowest_price | perc_variation   |\n",
            "|---:|:-------------|-------------:|--------------:|----------------:|---------------:|:-----------------|\n",
            "|  0 | Jan 02, 2001 |       108.77 |        109.33 |          109.65 |         108.64 | -0.72%           |\n",
            "|  1 | Jan 03, 2001 |       110.17 |        108.59 |          110.34 |         108.09 | 1.29%            |\n",
            "|  2 | Jan 04, 2001 |       108.81 |        110.3  |          110.4  |         108.51 | -1.23%           |\n",
            "|  3 | Jan 05, 2001 |       108.42 |        108.64 |          109.31 |         108.26 | -0.36%           |\n",
            "|  4 | Jan 08, 2001 |       108.86 |        108.33 |          109.19 |         108.23 | 0.41%            |\n"
          ]
        }
      ]
    },
    {
      "cell_type": "markdown",
      "source": [
        "## Data Exploration"
      ],
      "metadata": {
        "id": "hf08jrKxWTag"
      }
    },
    {
      "cell_type": "markdown",
      "source": [
        "## Data Cleansing up"
      ],
      "metadata": {
        "id": "tadxuMfDWV9a"
      }
    },
    {
      "cell_type": "markdown",
      "source": [
        "### Replace Outlier Values"
      ],
      "metadata": {
        "id": "vmyJmLiBWX98"
      }
    },
    {
      "cell_type": "markdown",
      "source": [
        "### Replace Missing Values"
      ],
      "metadata": {
        "id": "CQPFMX1cWdRW"
      }
    },
    {
      "cell_type": "markdown",
      "source": [
        "### Double-checking on cleaned dataframe"
      ],
      "metadata": {
        "id": "gBA2waLwWlzc"
      }
    },
    {
      "cell_type": "markdown",
      "source": [
        "## Column Target Classification by KNN"
      ],
      "metadata": {
        "id": "EBOCCrC4WpUY"
      }
    }
  ]
}