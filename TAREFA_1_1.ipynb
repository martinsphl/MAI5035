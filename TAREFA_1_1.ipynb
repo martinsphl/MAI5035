{
  "nbformat": 4,
  "nbformat_minor": 0,
  "metadata": {
    "colab": {
      "provenance": [],
      "authorship_tag": "ABX9TyPBAGKyuiFb1u3VZ0FeN53X",
      "include_colab_link": true
    },
    "kernelspec": {
      "name": "python3",
      "display_name": "Python 3"
    },
    "language_info": {
      "name": "python"
    }
  },
  "cells": [
    {
      "cell_type": "markdown",
      "metadata": {
        "id": "view-in-github",
        "colab_type": "text"
      },
      "source": [
        "<a href=\"https://colab.research.google.com/github/martinsphl/MAI5035/blob/main/TAREFA_1_1.ipynb\" target=\"_parent\"><img src=\"https://colab.research.google.com/assets/colab-badge.svg\" alt=\"Open In Colab\"/></a>"
      ]
    },
    {
      "cell_type": "code",
      "execution_count": 4,
      "metadata": {
        "id": "7KRSsqNrzgN0"
      },
      "outputs": [],
      "source": [
        "# Main libraries\n",
        "import pandas as pd\n",
        "import numpy as np\n",
        "import matplotlib\n",
        "import matplotlib.pyplot as plt\n",
        "import seaborn as sns\n",
        "import missingno as ms\n",
        "\n",
        "# Preprocess data: standardization and normalization\n",
        "from sklearn.preprocessing import StandardScaler\n",
        "from sklearn.preprocessing import MinMaxScaler\n",
        "from sklearn.preprocessing import OrdinalEncoder\n",
        "\n",
        "# Avoiding warning messages\n",
        "import warnings\n",
        "warnings.filterwarnings('ignore')\n",
        "\n",
        "# Setting a global seed\n",
        "np.random.seed(7)"
      ]
    },
    {
      "cell_type": "code",
      "source": [
        "# Defining the url of each dataset\n",
        "dataset_url = 'https://raw.githubusercontent.com/martinsphl/MAI5035/refs/heads/main/Steel_industry_data_task01.csv'\n",
        "\n",
        "# Creating pandas dataframe from each dataset\n",
        "df = pd.read_csv(dataset_url, names=['date', 'Usage_kWh',\t'Lagging_Current_Reactive.Power_kVarh',\t'Leading_Current_Reactive_Power_kVarh',\t'CO2(tCO2)',\t'Lagging_Current_Power_Factor',\t'Leading_Current_Power_Factor',\t'NSM',\t'WeekStatus',\t'Day_of_week',\t'Load_Type',\t'id'], skiprows=1, delimiter=',')\n"
      ],
      "metadata": {
        "id": "_53O711E3Khi"
      },
      "execution_count": 14,
      "outputs": []
    },
    {
      "cell_type": "code",
      "source": [
        "# Just checking that the dataframe was loaded correctly from the Github URL\n",
        "print(df.head(3).to_markdown())"
      ],
      "metadata": {
        "colab": {
          "base_uri": "https://localhost:8080/"
        },
        "id": "yi0HEhT93Kd4",
        "outputId": "9ff27bc8-15f7-419e-d966-a9ba23dd3c9d"
      },
      "execution_count": 17,
      "outputs": [
        {
          "output_type": "stream",
          "name": "stdout",
          "text": [
            "|    | date             |   Usage_kWh |   Lagging_Current_Reactive.Power_kVarh |   Leading_Current_Reactive_Power_kVarh |   CO2(tCO2) |   Lagging_Current_Power_Factor |   Leading_Current_Power_Factor |   NSM | WeekStatus   | Day_of_week   | Load_Type   |   id |\n",
            "|---:|:-----------------|------------:|---------------------------------------:|---------------------------------------:|------------:|-------------------------------:|-------------------------------:|------:|:-------------|:--------------|:------------|-----:|\n",
            "|  0 | 01/01/2018 00:15 |    -1571.8  |                                   2.95 |                                      0 |           0 |                          73.21 |                            100 |   nan | Weekday      | Monday        | Light_Load  | 6819 |\n",
            "|  1 | 01/01/2018 00:30 |        4    |                                   4.46 |                                    nan |           0 |                          66.77 |                            100 |  1800 | Weekday      | Monday        | Light_Load  | 5300 |\n",
            "|  2 | 01/01/2018 00:45 |        3.24 |                                   3.28 |                                      0 |           0 |                         nan    |                            100 |  2700 | Weekday      | Monday        | Light_Load  |  597 |\n"
          ]
        }
      ]
    },
    {
      "cell_type": "code",
      "source": [],
      "metadata": {
        "id": "mW-f2ziK5hh4"
      },
      "execution_count": null,
      "outputs": []
    }
  ]
}